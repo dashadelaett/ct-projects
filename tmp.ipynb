{
 "cells": [
  {
   "cell_type": "code",
   "execution_count": 1,
   "metadata": {},
   "outputs": [],
   "source": [
    "from core.name_checker import DrugNamesChecker\n",
    "from core.datetime_checker import DatesTimeChecker\n",
    "import xlsxwriter\n",
    "import pandas as pd"
   ]
  },
  {
   "cell_type": "code",
   "execution_count": 2,
   "metadata": {},
   "outputs": [],
   "source": [
    "# drug_checker = DrugNamesChecker(csv_file=\"data/reference-table.csv\")"
   ]
  },
  {
   "cell_type": "code",
   "execution_count": 3,
   "metadata": {},
   "outputs": [],
   "source": [
    "# drug_checker.check_excel_file(excel_file=\"Сер.xlsx\")\n"
   ]
  },
  {
   "cell_type": "code",
   "execution_count": 4,
   "metadata": {},
   "outputs": [
    {
     "ename": "NameError",
     "evalue": "name 'DateTimeChecker' is not defined",
     "output_type": "error",
     "traceback": [
      "\u001b[0;31m---------------------------------------------------------------------------\u001b[0m",
      "\u001b[0;31mNameError\u001b[0m                                 Traceback (most recent call last)",
      "\u001b[1;32m/Users/dashadelaett/Documents/GitHub/ct-projects/tmp.ipynb Cell 4\u001b[0m line \u001b[0;36m1\n\u001b[0;32m----> <a href='vscode-notebook-cell:/Users/dashadelaett/Documents/GitHub/ct-projects/tmp.ipynb#W3sZmlsZQ%3D%3D?line=0'>1</a>\u001b[0m checker \u001b[39m=\u001b[39m DateTimeChecker(\u001b[39m'\u001b[39m\u001b[39mlira.xlsx\u001b[39m\u001b[39m'\u001b[39m)\n\u001b[1;32m      <a href='vscode-notebook-cell:/Users/dashadelaett/Documents/GitHub/ct-projects/tmp.ipynb#W3sZmlsZQ%3D%3D?line=1'>2</a>\u001b[0m checker\u001b[39m.\u001b[39mperform_checks()\n",
      "\u001b[0;31mNameError\u001b[0m: name 'DateTimeChecker' is not defined"
     ]
    }
   ],
   "source": [
    "checker = DatesTimeChecker('lira.xlsx')\n",
    "checker.perform_checks()"
   ]
  }
 ],
 "metadata": {
  "kernelspec": {
   "display_name": "smooth",
   "language": "python",
   "name": "python3"
  },
  "language_info": {
   "codemirror_mode": {
    "name": "ipython",
    "version": 3
   },
   "file_extension": ".py",
   "mimetype": "text/x-python",
   "name": "python",
   "nbconvert_exporter": "python",
   "pygments_lexer": "ipython3",
   "version": "3.10.13"
  }
 },
 "nbformat": 4,
 "nbformat_minor": 2
}
